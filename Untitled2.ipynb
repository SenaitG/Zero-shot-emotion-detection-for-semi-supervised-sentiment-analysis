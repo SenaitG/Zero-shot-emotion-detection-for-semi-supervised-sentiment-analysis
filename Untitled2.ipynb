{
 "cells": [
  {
   "cell_type": "code",
   "execution_count": 42,
   "id": "04884524",
   "metadata": {},
   "outputs": [
    {
     "name": "stdout",
     "output_type": "stream",
     "text": [
      "[1, 1, 2, 7, 3, 3, 4, 3, 4, 4, 4, 5]\n"
     ]
    }
   ],
   "source": [
    "import pylev\n",
    "import numpy as np\n",
    "from Levenshtein import distance as lev\n",
    "distances =[]\n",
    "prompt_sentence = \"በቦስተን, ኤም ውስጥ ፀሐይ ምን ያህል ጊዜ ይወጣል?\"\n",
    "x = prompt_sentence.split(\" \")\n",
    "generated_sentences = np.array(['በቦስተን, ኤም ውስጥ ፀሐይ ምን ያህል ጊዜ ይወጣል።','በቦስተን, ኤም ውስጥ ፀሐይ እንዴት ያህል ጊዜ ይወጣል?','ኤም ውስጥ ፀሐይ በቦስተን ምን ያህል ጊዜ ይወጣል?','በቦስተን ምን ያህል ጊዜ ኤም ውስጥ ፀሐይ ይወጣል?','ኤም ውስጥ ፀሐይ ምን ያህል ጊዜ በቦስተን ይወጣል።','በቦስተን ውስጥ ኤም ፀሐይ ምን ያህል ጊዜ ይወጣል?','ኤም ፀሐይ ምን ያህል ጊዜ በቦስተን ይወጣል።','በቦስተን ኤም ፀሐይ ምን ያህል ጊዜ ይወጣል።','ኤም ፀሐይ ጊዜ ምን ያህል በቦስተን ይወጣል?','በቦስተን ጊዜ ውስጥ ኤም ፀሐይ ምን ያህል ይወጣል?','ኤም ፀሐይ ውስጥ ጊዜ ምን ያህል በቦስተን ይወጣል?','በቦስተን ውስጥ ጊዜ ኤም ፀሐይ ምን ያህል ይወጣል?'])\n",
    "for generated_sentence in generated_sentences:\n",
    "    #print(generated_sentence)\n",
    "    #print(prompt_sentence)\n",
    "    y = generated_sentence.split(\" \")\n",
    "    c = lev(x,y)\n",
    "    distances.append(c)\n",
    "print(distances)"
   ]
  },
  {
   "cell_type": "code",
   "execution_count": 44,
   "id": "f3b148aa",
   "metadata": {},
   "outputs": [],
   "source": [
    "import numpy as np\n",
    "import pandas as pd\n",
    "dist = pd.DataFrame(np.column_stack([generated_sentences, distances]), \n",
    "                               columns=['ChatGPT', 'dist_Prompt'])"
   ]
  },
  {
   "cell_type": "code",
   "execution_count": 45,
   "id": "cd84f274",
   "metadata": {},
   "outputs": [
    {
     "data": {
      "text/html": [
       "<div>\n",
       "<style scoped>\n",
       "    .dataframe tbody tr th:only-of-type {\n",
       "        vertical-align: middle;\n",
       "    }\n",
       "\n",
       "    .dataframe tbody tr th {\n",
       "        vertical-align: top;\n",
       "    }\n",
       "\n",
       "    .dataframe thead th {\n",
       "        text-align: right;\n",
       "    }\n",
       "</style>\n",
       "<table border=\"1\" class=\"dataframe\">\n",
       "  <thead>\n",
       "    <tr style=\"text-align: right;\">\n",
       "      <th></th>\n",
       "      <th>ChatGPT</th>\n",
       "      <th>dist_Prompt</th>\n",
       "    </tr>\n",
       "  </thead>\n",
       "  <tbody>\n",
       "    <tr>\n",
       "      <th>0</th>\n",
       "      <td>በቦስተን, ኤም ውስጥ ፀሐይ ምን ያህል ጊዜ ይወጣል።</td>\n",
       "      <td>1</td>\n",
       "    </tr>\n",
       "    <tr>\n",
       "      <th>1</th>\n",
       "      <td>በቦስተን, ኤም ውስጥ ፀሐይ እንዴት ያህል ጊዜ ይወጣል?</td>\n",
       "      <td>1</td>\n",
       "    </tr>\n",
       "    <tr>\n",
       "      <th>2</th>\n",
       "      <td>ኤም ውስጥ ፀሐይ በቦስተን ምን ያህል ጊዜ ይወጣል?</td>\n",
       "      <td>2</td>\n",
       "    </tr>\n",
       "    <tr>\n",
       "      <th>3</th>\n",
       "      <td>በቦስተን ምን ያህል ጊዜ ኤም ውስጥ ፀሐይ ይወጣል?</td>\n",
       "      <td>7</td>\n",
       "    </tr>\n",
       "    <tr>\n",
       "      <th>4</th>\n",
       "      <td>ኤም ውስጥ ፀሐይ ምን ያህል ጊዜ በቦስተን ይወጣል።</td>\n",
       "      <td>3</td>\n",
       "    </tr>\n",
       "    <tr>\n",
       "      <th>5</th>\n",
       "      <td>በቦስተን ውስጥ ኤም ፀሐይ ምን ያህል ጊዜ ይወጣል?</td>\n",
       "      <td>3</td>\n",
       "    </tr>\n",
       "    <tr>\n",
       "      <th>6</th>\n",
       "      <td>ኤም ፀሐይ ምን ያህል ጊዜ በቦስተን ይወጣል።</td>\n",
       "      <td>4</td>\n",
       "    </tr>\n",
       "    <tr>\n",
       "      <th>7</th>\n",
       "      <td>በቦስተን ኤም ፀሐይ ምን ያህል ጊዜ ይወጣል።</td>\n",
       "      <td>3</td>\n",
       "    </tr>\n",
       "    <tr>\n",
       "      <th>8</th>\n",
       "      <td>ኤም ፀሐይ ጊዜ ምን ያህል በቦስተን ይወጣል?</td>\n",
       "      <td>4</td>\n",
       "    </tr>\n",
       "    <tr>\n",
       "      <th>9</th>\n",
       "      <td>በቦስተን ጊዜ ውስጥ ኤም ፀሐይ ምን ያህል ይወጣል?</td>\n",
       "      <td>4</td>\n",
       "    </tr>\n",
       "    <tr>\n",
       "      <th>10</th>\n",
       "      <td>ኤም ፀሐይ ውስጥ ጊዜ ምን ያህል በቦስተን ይወጣል?</td>\n",
       "      <td>4</td>\n",
       "    </tr>\n",
       "    <tr>\n",
       "      <th>11</th>\n",
       "      <td>በቦስተን ውስጥ ጊዜ ኤም ፀሐይ ምን ያህል ይወጣል?</td>\n",
       "      <td>5</td>\n",
       "    </tr>\n",
       "  </tbody>\n",
       "</table>\n",
       "</div>"
      ],
      "text/plain": [
       "                                ChatGPT dist_Prompt\n",
       "0     በቦስተን, ኤም ውስጥ ፀሐይ ምን ያህል ጊዜ ይወጣል።           1\n",
       "1   በቦስተን, ኤም ውስጥ ፀሐይ እንዴት ያህል ጊዜ ይወጣል?           1\n",
       "2      ኤም ውስጥ ፀሐይ በቦስተን ምን ያህል ጊዜ ይወጣል?           2\n",
       "3      በቦስተን ምን ያህል ጊዜ ኤም ውስጥ ፀሐይ ይወጣል?           7\n",
       "4      ኤም ውስጥ ፀሐይ ምን ያህል ጊዜ በቦስተን ይወጣል።           3\n",
       "5      በቦስተን ውስጥ ኤም ፀሐይ ምን ያህል ጊዜ ይወጣል?           3\n",
       "6          ኤም ፀሐይ ምን ያህል ጊዜ በቦስተን ይወጣል።           4\n",
       "7          በቦስተን ኤም ፀሐይ ምን ያህል ጊዜ ይወጣል።           3\n",
       "8          ኤም ፀሐይ ጊዜ ምን ያህል በቦስተን ይወጣል?           4\n",
       "9      በቦስተን ጊዜ ውስጥ ኤም ፀሐይ ምን ያህል ይወጣል?           4\n",
       "10     ኤም ፀሐይ ውስጥ ጊዜ ምን ያህል በቦስተን ይወጣል?           4\n",
       "11     በቦስተን ውስጥ ጊዜ ኤም ፀሐይ ምን ያህል ይወጣል?           5"
      ]
     },
     "metadata": {},
     "output_type": "display_data"
    }
   ],
   "source": [
    "display(dist)"
   ]
  },
  {
   "cell_type": "code",
   "execution_count": null,
   "id": "9164f982",
   "metadata": {},
   "outputs": [],
   "source": [
    "his"
   ]
  }
 ],
 "metadata": {
  "kernelspec": {
   "display_name": "Python 3 (ipykernel)",
   "language": "python",
   "name": "python3"
  },
  "language_info": {
   "codemirror_mode": {
    "name": "ipython",
    "version": 3
   },
   "file_extension": ".py",
   "mimetype": "text/x-python",
   "name": "python",
   "nbconvert_exporter": "python",
   "pygments_lexer": "ipython3",
   "version": "3.8.12"
  }
 },
 "nbformat": 4,
 "nbformat_minor": 5
}
